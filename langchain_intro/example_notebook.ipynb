{
 "cells": [
  {
   "cell_type": "code",
   "execution_count": 2,
   "metadata": {},
   "outputs": [],
   "source": [
    "import dotenv\n",
    "from langchain_community.vectorstores import Chroma\n",
    "from langchain_openai import OpenAIEmbeddings"
   ]
  },
  {
   "cell_type": "code",
   "execution_count": 10,
   "metadata": {},
   "outputs": [],
   "source": [
    "# connect api key\n",
    "dotenv.load_dotenv()\n",
    "\n",
    "# conect reviews vector db\n",
    "REVIEWS_CHROMA_PATH = \"../chroma_data/\"\n",
    "\n",
    "reviews_vector_db = Chroma(\n",
    "    persist_directory=REVIEWS_CHROMA_PATH,\n",
    "    embedding_function=OpenAIEmbeddings(),\n",
    ")"
   ]
  },
  {
   "cell_type": "code",
   "execution_count": 17,
   "metadata": {},
   "outputs": [],
   "source": [
    "# run example of retrieval\n",
    "question = \"\"\"Has anyone complained about\n",
    "           communication with the hospital staff?\"\"\"\n",
    "\n",
    "relevant_docs = reviews_vector_db.similarity_search(question, k=5)"
   ]
  },
  {
   "cell_type": "code",
   "execution_count": 18,
   "metadata": {},
   "outputs": [
    {
     "data": {
      "text/plain": [
       "[Document(page_content='review_id: 73\\nvisit_id: 7696\\nreview: I had a frustrating experience at the hospital. The communication between the medical staff and me was unclear, leading to misunderstandings about my treatment plan. Improvement is needed in this area.\\nphysician_name: Maria Thompson\\nhospital_name: Little-Spencer\\npatient_name: Terri Smith', metadata={'row': 416, 'source': 'I had a frustrating experience at the hospital. The communication between the medical staff and me was unclear, leading to misunderstandings about my treatment plan. Improvement is needed in this area.'}),\n",
       " Document(page_content='review_id: 785\\nvisit_id: 2593\\nreview: My stay at the hospital was challenging. The medical care was adequate, but the lack of communication from the staff created some frustration.\\nphysician_name: Brittany Harris\\nhospital_name: Jones, Taylor and Garcia\\npatient_name: Ryan Jacobs', metadata={'row': 758, 'source': 'My stay at the hospital was challenging. The medical care was adequate, but the lack of communication from the staff created some frustration.'}),\n",
       " Document(page_content='review_id: 521\\nvisit_id: 631\\nreview: I had a challenging time at the hospital. The medical care was adequate, but the lack of communication between the staff and me left me feeling frustrated and confused about my treatment plan.\\nphysician_name: Samantha Mendez\\nhospital_name: Richardson-Powell\\npatient_name: Kurt Gordon', metadata={'row': 915, 'source': 'I had a challenging time at the hospital. The medical care was adequate, but the lack of communication between the staff and me left me feeling frustrated and confused about my treatment plan.'}),\n",
       " Document(page_content=\"review_id: 266\\nvisit_id: 5374\\nreview: The hospital's facilities were modern and well-maintained. However, the lack of communication about changes in my treatment plan created unnecessary stress.\\nphysician_name: James Johnson\\nhospital_name: Wallace-Hamilton\\npatient_name: Michele Jones\", metadata={'row': 21, 'source': \"The hospital's facilities were modern and well-maintained. However, the lack of communication about changes in my treatment plan created unnecessary stress.\"}),\n",
       " Document(page_content='review_id: 85\\nvisit_id: 55\\nreview: I had a challenging experience at the hospital. The medical care was adequate, but the lack of communication between the staff and me made me feel isolated and frustrated.\\nphysician_name: Andrew King\\nhospital_name: Rush, Owens and Johnson\\npatient_name: Frank Reid', metadata={'row': 639, 'source': 'I had a challenging experience at the hospital. The medical care was adequate, but the lack of communication between the staff and me made me feel isolated and frustrated.'})]"
      ]
     },
     "execution_count": 18,
     "metadata": {},
     "output_type": "execute_result"
    }
   ],
   "source": [
    "relevant_docs"
   ]
  },
  {
   "cell_type": "code",
   "execution_count": 19,
   "metadata": {},
   "outputs": [
    {
     "name": "stdout",
     "output_type": "stream",
     "text": [
      "review_id: 73\n",
      "visit_id: 7696\n",
      "review: I had a frustrating experience at the hospital. The communication between the medical staff and me was unclear, leading to misunderstandings about my treatment plan. Improvement is needed in this area.\n",
      "physician_name: Maria Thompson\n",
      "hospital_name: Little-Spencer\n",
      "patient_name: Terri Smith\n",
      "\n",
      "review_id: 785\n",
      "visit_id: 2593\n",
      "review: My stay at the hospital was challenging. The medical care was adequate, but the lack of communication from the staff created some frustration.\n",
      "physician_name: Brittany Harris\n",
      "hospital_name: Jones, Taylor and Garcia\n",
      "patient_name: Ryan Jacobs\n",
      "\n",
      "review_id: 521\n",
      "visit_id: 631\n",
      "review: I had a challenging time at the hospital. The medical care was adequate, but the lack of communication between the staff and me left me feeling frustrated and confused about my treatment plan.\n",
      "physician_name: Samantha Mendez\n",
      "hospital_name: Richardson-Powell\n",
      "patient_name: Kurt Gordon\n",
      "\n",
      "review_id: 266\n",
      "visit_id: 5374\n",
      "review: The hospital's facilities were modern and well-maintained. However, the lack of communication about changes in my treatment plan created unnecessary stress.\n",
      "physician_name: James Johnson\n",
      "hospital_name: Wallace-Hamilton\n",
      "patient_name: Michele Jones\n",
      "\n",
      "review_id: 85\n",
      "visit_id: 55\n",
      "review: I had a challenging experience at the hospital. The medical care was adequate, but the lack of communication between the staff and me made me feel isolated and frustrated.\n",
      "physician_name: Andrew King\n",
      "hospital_name: Rush, Owens and Johnson\n",
      "patient_name: Frank Reid\n",
      "\n"
     ]
    }
   ],
   "source": [
    "for doc in relevant_docs:\n",
    "    print(doc.page_content)\n",
    "    print()"
   ]
  },
  {
   "cell_type": "code",
   "execution_count": null,
   "metadata": {},
   "outputs": [],
   "source": []
  }
 ],
 "metadata": {
  "kernelspec": {
   "display_name": ".venv",
   "language": "python",
   "name": "python3"
  },
  "language_info": {
   "codemirror_mode": {
    "name": "ipython",
    "version": 3
   },
   "file_extension": ".py",
   "mimetype": "text/x-python",
   "name": "python",
   "nbconvert_exporter": "python",
   "pygments_lexer": "ipython3",
   "version": "3.12.2"
  }
 },
 "nbformat": 4,
 "nbformat_minor": 2
}
